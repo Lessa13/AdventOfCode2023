{
 "cells": [
  {
   "cell_type": "markdown",
   "metadata": {},
   "source": [
    "<p>The Elf leads you over to the pile of colorful cards. There, you discover dozens of scratchcards, all with their opaque covering already scratched off. Picking one up, it looks like each card has two lists of numbers separated by a vertical bar (|): a list of winning numbers and then a list of numbers you have. You organize the information into a table (your puzzle input).\n",
    "\n",
    "As far as the Elf has been able to figure out, you have to figure out which of the numbers you have appear in the list of winning numbers. The first match makes the card worth one point and each match after the first doubles the point value of that card.</p>\n",
    "<p>Take a seat in the large pile of colorful cards. How many points are they worth in total?</p>"
   ]
  },
  {
   "cell_type": "code",
   "execution_count": 102,
   "metadata": {},
   "outputs": [],
   "source": [
    "import os\n",
    "import re"
   ]
  },
  {
   "cell_type": "code",
   "execution_count": 103,
   "metadata": {},
   "outputs": [],
   "source": [
    "archivo = 'Day4Input.txt'\n",
    "ubi = os.getcwd()\n",
    "ubic = ubi + '/' + archivo\n",
    "f = open(ubic)\n",
    "texto = f.readlines()"
   ]
  },
  {
   "cell_type": "code",
   "execution_count": 104,
   "metadata": {},
   "outputs": [],
   "source": [
    "texto1 = [l.split(':') for l in texto]\n",
    "texto2 = [l[1] for l in texto1]"
   ]
  },
  {
   "cell_type": "code",
   "execution_count": 105,
   "metadata": {},
   "outputs": [],
   "source": [
    "texto3 = []\n",
    "for l in texto2:\n",
    "        l = re.findall(r'\\d+',l)\n",
    "        texto3.append(l)"
   ]
  },
  {
   "cell_type": "code",
   "execution_count": 106,
   "metadata": {},
   "outputs": [],
   "source": [
    "def converint(lista):\n",
    "    list = []\n",
    "    for i in lista:\n",
    "        i = int(i)\n",
    "        list.append(i)\n",
    "    return list"
   ]
  },
  {
   "cell_type": "code",
   "execution_count": 107,
   "metadata": {},
   "outputs": [],
   "source": [
    "textof = []\n",
    "for l in texto3:\n",
    "    list = converint(l)\n",
    "    textof.append(list)"
   ]
  },
  {
   "cell_type": "code",
   "execution_count": 108,
   "metadata": {},
   "outputs": [],
   "source": [
    "wnumber = []\n",
    "number = []\n",
    "for i in enumerate(textof):\n",
    "    wlist = []\n",
    "    list = []\n",
    "    for k in enumerate(i[1]):\n",
    "        if k[0] <= 9:\n",
    "            wlist.append(k[1])\n",
    "        else:\n",
    "            list.append(k[1])\n",
    "    wnumber.append(wlist)\n",
    "    number.append(list)"
   ]
  },
  {
   "cell_type": "code",
   "execution_count": 109,
   "metadata": {},
   "outputs": [
    {
     "name": "stdout",
     "output_type": "stream",
     "text": [
      "The pile of cards have a value worth of 24848\n"
     ]
    }
   ],
   "source": [
    "sum = 0\n",
    "for i in (range(len(number)-1)):\n",
    "    smollsum = 0\n",
    "    for k in number[i]: \n",
    "        if k in wnumber[i]:\n",
    "            if smollsum == 0:\n",
    "                smollsum = smollsum +1\n",
    "            else:\n",
    "                smollsum =smollsum*2 \n",
    "        else:\n",
    "            pass\n",
    "    sum = sum + smollsum\n",
    "print('The pile of cards have a value worth of', sum)"
   ]
  }
 ],
 "metadata": {
  "kernelspec": {
   "display_name": "Arillien",
   "language": "python",
   "name": "python3"
  },
  "language_info": {
   "codemirror_mode": {
    "name": "ipython",
    "version": 3
   },
   "file_extension": ".py",
   "mimetype": "text/x-python",
   "name": "python",
   "nbconvert_exporter": "python",
   "pygments_lexer": "ipython3",
   "version": "3.12.0"
  }
 },
 "nbformat": 4,
 "nbformat_minor": 2
}
