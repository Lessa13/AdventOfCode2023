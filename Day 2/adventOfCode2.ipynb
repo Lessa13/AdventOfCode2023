{
 "cells": [
  {
   "cell_type": "code",
   "execution_count": 619,
   "metadata": {},
   "outputs": [],
   "source": [
    "import os\n",
    "import re\n"
   ]
  },
  {
   "cell_type": "code",
   "execution_count": 620,
   "metadata": {},
   "outputs": [],
   "source": [
    "archivo = 'AdventOfCode2.txt'\n",
    "ubi = os.getcwd()\n",
    "ubic = ubi + '/' + archivo\n",
    "f = open(ubic)\n",
    "texto = f.read()"
   ]
  },
  {
   "cell_type": "code",
   "execution_count": 621,
   "metadata": {},
   "outputs": [],
   "source": [
    "textof = texto.split(\"\\n\")\n"
   ]
  },
  {
   "cell_type": "code",
   "execution_count": 622,
   "metadata": {},
   "outputs": [],
   "source": [
    "diccionario = dict()"
   ]
  },
  {
   "cell_type": "code",
   "execution_count": 623,
   "metadata": {},
   "outputs": [],
   "source": [
    "def gamedict(game):\n",
    "    list = game.split(':')\n",
    "    magickey = list[0]\n",
    "    for i in range(len(list)):\n",
    "        list[i] = list[i].split(';')\n",
    "    magicvalue = list[1]\n",
    "    dict1 = {magickey : magicvalue}\n",
    "    return dict1"
   ]
  },
  {
   "cell_type": "code",
   "execution_count": 624,
   "metadata": {},
   "outputs": [],
   "source": [
    "for game in textof:\n",
    "    dict1 = gamedict(game)\n",
    "    diccionario.update(dict1)\n",
    "    "
   ]
  },
  {
   "cell_type": "code",
   "execution_count": 625,
   "metadata": {},
   "outputs": [],
   "source": [
    "keylist= []\n",
    "for key in diccionario.keys():\n",
    "    key = [int(k) for k in re.findall(r'\\d+',key)]\n",
    "    keylist.append(key)"
   ]
  },
  {
   "cell_type": "code",
   "execution_count": 626,
   "metadata": {},
   "outputs": [
    {
     "data": {
      "text/plain": [
       "[' 1 red, 10 blue, 5 green',\n",
       " ' 11 blue, 6 green',\n",
       " ' 6 green',\n",
       " ' 1 green, 1 red, 12 blue',\n",
       " ' 3 blue',\n",
       " ' 3 blue, 4 green, 1 red']"
      ]
     },
     "execution_count": 626,
     "metadata": {},
     "output_type": "execute_result"
    }
   ],
   "source": [
    "diccionario['Game 1']"
   ]
  },
  {
   "cell_type": "code",
   "execution_count": 627,
   "metadata": {},
   "outputs": [],
   "source": [
    "def valuedict(v):\n",
    "    keys = []\n",
    "    values = []\n",
    "    finalvalues = []\n",
    "    for i in range(len(v)):\n",
    "        keys.append(re.findall(r'[a-z]+', v[i]))\n",
    "        values.append(int(k) for k in re.findall(r'\\d+',v[i]))\n",
    "    for i in range(len(keys)):\n",
    "        finalvalues.append(dict(zip(keys[i],values[i])))\n",
    "    return finalvalues"
   ]
  },
  {
   "cell_type": "code",
   "execution_count": 628,
   "metadata": {},
   "outputs": [],
   "source": [
    "valuelist= []\n",
    "for value in diccionario.values():\n",
    "    valuef = valuedict(value)\n",
    "    valuelist.append(valuef)"
   ]
  },
  {
   "cell_type": "code",
   "execution_count": 629,
   "metadata": {},
   "outputs": [],
   "source": [
    "flist = []\n",
    "for i in range(len(keylist)):\n",
    "    tuple1 = (keylist[i],valuelist[i])\n",
    "    flist.append(tuple1)"
   ]
  },
  {
   "cell_type": "code",
   "execution_count": 630,
   "metadata": {},
   "outputs": [
    {
     "name": "stdout",
     "output_type": "stream",
     "text": [
      "[([1], [{'red': 1, 'blue': 10, 'green': 5}, {'blue': 11, 'green': 6}, {'green': 6}, {'green': 1, 'red': 1, 'blue': 12}, {'blue': 3}, {'blue': 3, 'green': 4, 'red': 1}]), ([2], [{'red': 3, 'green': 5}, {'green': 5, 'red': 7}, {'blue': 1, 'red': 7, 'green': 3}, {'red': 3, 'blue': 2}, {'green': 5, 'red': 4}]), ([3], [{'blue': 4, 'green': 4}, {'green': 2, 'blue': 2}, {'green': 8, 'red': 2, 'blue': 3}]), ([4], [{'blue': 3, 'green': 15}, {'green': 16}, {'red': 2, 'green': 7}, {'blue': 2, 'green': 14}]), ([5], [{'green': 8, 'red': 6, 'blue': 16}, {'red': 8, 'green': 12}, {'red': 1, 'green': 9, 'blue': 16}, {'red': 8, 'green': 3}, {'blue': 2, 'red': 5, 'green': 10}, {'red': 15, 'blue': 4, 'green': 8}]), ([6], [{'blue': 5, 'green': 2}, {'red': 6, 'green': 3}, {'green': 4, 'blue': 4, 'red': 2}, {'blue': 14, 'red': 2}]), ([7], [{'green': 2, 'blue': 6, 'red': 1}, {'blue': 2, 'red': 1}, {'blue': 8}, {'blue': 5, 'green': 1}, {'blue': 6, 'red': 1}, {'blue': 2}]), ([8], [{'red': 1, 'blue': 10, 'green': 1}, {'blue': 6, 'red': 1}, {'blue': 3, 'green': 2}, {'red': 1, 'blue': 1, 'green': 3}, {'blue': 13}, {'blue': 10, 'green': 3, 'red': 3}]), ([9], [{'blue': 2}, {'green': 8, 'blue': 3}, {'green': 4}, {'green': 14, 'red': 1, 'blue': 2}, {'blue': 3, 'red': 1, 'green': 12}]), ([10], [{'blue': 1, 'green': 7}, {'red': 1, 'green': 3, 'blue': 5}, {'blue': 1, 'green': 5, 'red': 1}, {'green': 13, 'blue': 5, 'red': 2}]), ([11], [{'green': 1, 'red': 10, 'blue': 6}, {'red': 15, 'blue': 12}, {'red': 18, 'green': 1, 'blue': 1}]), ([12], [{'red': 16, 'blue': 8, 'green': 1}, {'red': 15, 'blue': 3, 'green': 1}, {'red': 5}]), ([13], [{'red': 6, 'blue': 7, 'green': 7}, {'blue': 3, 'red': 4, 'green': 13}, {'blue': 1, 'red': 6, 'green': 11}, {'red': 2, 'blue': 1, 'green': 14}, {'green': 8, 'blue': 5, 'red': 2}, {'blue': 4, 'green': 18, 'red': 4}]), ([14], [{'red': 16, 'blue': 3, 'green': 1}, {'green': 7, 'red': 3}, {'red': 16, 'green': 15, 'blue': 3}, {'blue': 3, 'red': 13, 'green': 10}]), ([15], [{'blue': 1, 'red': 1}, {'blue': 3, 'green': 2}, {'red': 1}, {'red': 2, 'green': 2, 'blue': 3}, {'blue': 3, 'red': 1, 'green': 3}]), ([16], [{'red': 9, 'blue': 3}, {'red': 13, 'blue': 9}, {'blue': 9, 'red': 10}, {'red': 5, 'blue': 10, 'green': 1}, {'red': 2, 'green': 6, 'blue': 8}, {'green': 6, 'red': 13, 'blue': 5}]), ([17], [{'red': 15, 'green': 17, 'blue': 8}, {'red': 18, 'blue': 16, 'green': 15}, {'blue': 8, 'green': 17, 'red': 10}, {'green': 5, 'red': 3, 'blue': 12}]), ([18], [{'blue': 2, 'red': 11, 'green': 2}, {'green': 1, 'red': 11, 'blue': 11}, {'red': 1, 'blue': 4}, {'blue': 10, 'red': 9}, {'blue': 1, 'red': 7}]), ([19], [{'blue': 2, 'green': 3, 'red': 5}, {'blue': 8, 'green': 16}, {'red': 12, 'blue': 7, 'green': 8}, {'green': 9, 'blue': 1}, {'red': 3, 'green': 16, 'blue': 10}]), ([20], [{'blue': 3, 'green': 5, 'red': 6}, {'red': 2, 'blue': 8, 'green': 7}, {'green': 7, 'blue': 3}, {'red': 2, 'blue': 11}, {'green': 1, 'red': 6, 'blue': 3}]), ([21], [{'red': 16, 'blue': 3, 'green': 8}, {'red': 10, 'blue': 15, 'green': 3}, {'green': 6, 'red': 13, 'blue': 15}, {'green': 11, 'blue': 13, 'red': 10}]), ([22], [{'green': 8, 'blue': 1}, {'blue': 2, 'green': 9, 'red': 3}, {'red': 2, 'blue': 2}, {'red': 1, 'blue': 3, 'green': 8}, {'blue': 2, 'green': 1}, {'green': 1, 'blue': 2}]), ([23], [{'blue': 2, 'red': 8, 'green': 5}, {'green': 9, 'blue': 2}, {'red': 10, 'green': 2}, {'red': 12, 'blue': 1}, {'green': 11, 'blue': 2, 'red': 13}, {'green': 7}]), ([24], [{'red': 6}, {'green': 13, 'red': 7, 'blue': 10}, {'green': 7, 'red': 9, 'blue': 1}, {'blue': 3, 'green': 2, 'red': 2}]), ([25], [{'green': 7, 'red': 1, 'blue': 2}, {'green': 8, 'blue': 2, 'red': 5}, {'blue': 5, 'green': 8, 'red': 4}, {'blue': 5, 'green': 2, 'red': 1}, {'green': 5, 'red': 3, 'blue': 7}, {'blue': 3, 'green': 6, 'red': 1}]), ([26], [{'green': 6, 'red': 3}, {'blue': 1, 'green': 2, 'red': 2}, {'green': 2, 'red': 2, 'blue': 3}, {'blue': 4, 'red': 8, 'green': 2}, {'red': 1, 'green': 1, 'blue': 1}, {'red': 6, 'blue': 5}]), ([27], [{'green': 4, 'blue': 13, 'red': 2}, {'red': 2, 'green': 7, 'blue': 10}, {'blue': 14, 'green': 11, 'red': 1}, {'blue': 10, 'green': 15}]), ([28], [{'green': 4, 'red': 13, 'blue': 7}, {'red': 2, 'blue': 5}, {'blue': 5, 'green': 4}]), ([29], [{'green': 6, 'red': 15}, {'blue': 1, 'red': 6, 'green': 8}, {'green': 6, 'blue': 1}, {'red': 12}, {'green': 1, 'red': 7, 'blue': 1}]), ([30], [{'blue': 4, 'green': 4, 'red': 2}, {'blue': 6, 'red': 9, 'green': 20}, {'blue': 9, 'red': 4, 'green': 2}, {'red': 8, 'blue': 8, 'green': 1}, {'green': 6, 'blue': 12, 'red': 2}, {'green': 8, 'red': 8}]), ([31], [{'blue': 9}, {'red': 1, 'blue': 2, 'green': 5}, {'blue': 2, 'red': 2, 'green': 9}, {'blue': 2, 'red': 1, 'green': 8}, {'green': 11, 'red': 2, 'blue': 3}, {'green': 7, 'blue': 5}]), ([32], [{'red': 15, 'green': 5}, {'green': 4, 'blue': 2, 'red': 3}, {'blue': 1, 'red': 9}, {'blue': 1, 'red': 15}, {'blue': 4, 'red': 2, 'green': 8}, {'green': 3, 'blue': 3}]), ([33], [{'blue': 13, 'red': 1, 'green': 1}, {'blue': 8, 'red': 6}, {'blue': 4, 'red': 2}]), ([34], [{'blue': 5, 'red': 9, 'green': 7}, {'red': 8, 'green': 6, 'blue': 5}, {'blue': 2, 'green': 7, 'red': 12}]), ([35], [{'blue': 4, 'red': 15}, {'green': 1, 'blue': 10, 'red': 7}, {'red': 9, 'green': 3, 'blue': 1}, {'red': 13, 'blue': 9}, {'blue': 3, 'red': 2}]), ([36], [{'blue': 4, 'green': 18, 'red': 2}, {'green': 5, 'blue': 6, 'red': 11}, {'red': 6, 'blue': 12, 'green': 14}, {'green': 19, 'blue': 10, 'red': 7}, {'red': 7, 'green': 8, 'blue': 9}]), ([37], [{'blue': 16, 'green': 5, 'red': 18}, {'blue': 3, 'green': 14, 'red': 1}, {'blue': 4, 'green': 3, 'red': 14}, {'green': 12, 'red': 7, 'blue': 15}, {'green': 15, 'blue': 11, 'red': 2}, {'blue': 8, 'green': 13, 'red': 6}]), ([38], [{'red': 6, 'blue': 4, 'green': 12}, {'red': 3, 'blue': 11}, {'green': 16, 'blue': 2, 'red': 8}, {'blue': 4, 'red': 11, 'green': 4}, {'green': 17, 'red': 7, 'blue': 10}, {'blue': 9, 'green': 15, 'red': 1}]), ([39], [{'green': 1, 'red': 1, 'blue': 10}, {'red': 1, 'blue': 5, 'green': 2}, {'red': 4, 'blue': 7}, {'red': 9, 'green': 6, 'blue': 5}, {'green': 1, 'blue': 2, 'red': 9}]), ([40], [{'blue': 13, 'red': 11, 'green': 12}, {'green': 8, 'red': 11, 'blue': 4}, {'blue': 2, 'green': 2, 'red': 12}, {'green': 2, 'red': 3, 'blue': 13}, {'blue': 13, 'red': 6, 'green': 2}, {'green': 4, 'red': 6, 'blue': 8}]), ([41], [{'red': 12, 'green': 4, 'blue': 13}, {'red': 4, 'blue': 7, 'green': 10}, {'green': 17, 'red': 17, 'blue': 11}]), ([42], [{'red': 1, 'green': 1}, {'red': 1, 'green': 4}, {'blue': 1, 'red': 4, 'green': 4}, {'red': 3}, {'blue': 1, 'green': 3, 'red': 1}]), ([43], [{'blue': 7, 'green': 10}, {'blue': 5, 'green': 2}, {'blue': 2, 'green': 1, 'red': 4}, {'red': 14, 'green': 6, 'blue': 7}, {'green': 4, 'red': 14, 'blue': 8}, {'green': 4, 'red': 6}]), ([44], [{'green': 9, 'red': 4}, {'red': 4, 'green': 6}, {'red': 5, 'blue': 2, 'green': 7}, {'blue': 9, 'green': 1, 'red': 14}]), ([45], [{'blue': 20, 'red': 4, 'green': 6}, {'blue': 3, 'green': 1, 'red': 6}, {'blue': 8, 'green': 8, 'red': 11}]), ([46], [{'green': 1, 'red': 6}, {'red': 6, 'blue': 3, 'green': 3}, {'red': 6, 'blue': 3, 'green': 4}, {'blue': 1, 'red': 5}, {'green': 1, 'red': 4, 'blue': 1}, {'green': 2, 'red': 4}]), ([47], [{'green': 12, 'red': 8, 'blue': 4}, {'green': 7, 'red': 6, 'blue': 11}, {'red': 4, 'blue': 11, 'green': 12}]), ([48], [{'green': 1, 'blue': 3}, {'green': 13, 'red': 3, 'blue': 11}, {'blue': 7, 'green': 1, 'red': 2}, {'red': 7, 'green': 15, 'blue': 4}, {'red': 4, 'blue': 8, 'green': 10}, {'green': 15, 'blue': 8, 'red': 6}]), ([49], [{'red': 2}, {'red': 2, 'blue': 9}, {'blue': 4, 'green': 1}]), ([50], [{'blue': 10, 'green': 1, 'red': 18}, {'red': 13, 'green': 1, 'blue': 7}, {'red': 4, 'green': 2, 'blue': 9}, {'green': 2, 'red': 4, 'blue': 10}, {'blue': 7, 'red': 3}, {'red': 19, 'blue': 9}]), ([51], [{'green': 2, 'red': 2, 'blue': 5}, {'red': 9, 'blue': 5}, {'red': 3, 'blue': 10}, {'blue': 9, 'red': 6, 'green': 7}, {'red': 2, 'blue': 5}]), ([52], [{'blue': 6, 'green': 3}, {'green': 5, 'blue': 3, 'red': 5}, {'blue': 1, 'green': 2, 'red': 2}]), ([53], [{'blue': 2, 'green': 9, 'red': 15}, {'red': 18, 'blue': 1}, {'red': 13, 'green': 12}, {'green': 7, 'blue': 2, 'red': 9}]), ([54], [{'green': 18}, {'red': 2, 'green': 6}, {'red': 6, 'green': 9, 'blue': 1}, {'blue': 1, 'green': 4, 'red': 5}, {'red': 3}, {'green': 3, 'red': 4}]), ([55], [{'red': 5, 'blue': 2, 'green': 5}, {'blue': 10, 'green': 4, 'red': 8}, {'green': 15, 'blue': 9, 'red': 9}, {'green': 1, 'blue': 9}]), ([56], [{'green': 8, 'blue': 11, 'red': 1}, {'blue': 1, 'red': 1, 'green': 4}, {'blue': 8}]), ([57], [{'green': 5, 'blue': 4}, {'blue': 1, 'green': 4}, {'red': 1, 'green': 1, 'blue': 3}, {'red': 1, 'blue': 2, 'green': 6}]), ([58], [{'green': 8, 'red': 10, 'blue': 10}, {'blue': 8, 'green': 6, 'red': 12}, {'green': 9, 'blue': 11, 'red': 1}, {'red': 12, 'green': 5, 'blue': 11}, {'red': 7, 'green': 2, 'blue': 8}]), ([59], [{'red': 10, 'green': 1, 'blue': 3}, {'red': 16, 'green': 1, 'blue': 4}, {'red': 9, 'blue': 2}, {'red': 1}]), ([60], [{'blue': 11, 'green': 13, 'red': 10}, {'red': 15, 'blue': 12}, {'blue': 3, 'green': 9, 'red': 6}, {'blue': 12, 'green': 5}]), ([61], [{'blue': 2, 'red': 7}, {'green': 3, 'blue': 14, 'red': 11}, {'red': 7, 'blue': 10}, {'blue': 6, 'green': 3, 'red': 4}, {'blue': 10}]), ([62], [{'blue': 1, 'green': 7}, {'red': 6, 'green': 12, 'blue': 1}, {'red': 8}]), ([63], [{'blue': 1, 'green': 3, 'red': 1}, {'green': 8, 'red': 10, 'blue': 1}, {'green': 8, 'red': 11}, {'blue': 1, 'green': 11, 'red': 5}, {'green': 8, 'red': 11, 'blue': 2}, {'blue': 2, 'red': 10, 'green': 6}]), ([64], [{'green': 17, 'blue': 2}, {'blue': 12, 'green': 8}, {'green': 11, 'red': 3, 'blue': 4}, {'red': 5, 'green': 9, 'blue': 14}]), ([65], [{'blue': 7, 'green': 12, 'red': 5}, {'green': 13, 'blue': 5, 'red': 4}, {'blue': 4, 'green': 8, 'red': 1}, {'red': 5, 'green': 10, 'blue': 10}, {'red': 5, 'blue': 5, 'green': 15}, {'red': 4, 'green': 9, 'blue': 10}]), ([66], [{'green': 8, 'red': 2}, {'red': 8, 'green': 4}, {'red': 5, 'blue': 2, 'green': 7}]), ([67], [{'green': 10, 'blue': 7, 'red': 2}, {'blue': 15, 'green': 1, 'red': 9}, {'red': 2, 'green': 7, 'blue': 18}, {'green': 3, 'blue': 5, 'red': 8}, {'green': 10, 'blue': 11, 'red': 1}, {'green': 10, 'red': 4, 'blue': 17}]), ([68], [{'green': 13, 'blue': 10, 'red': 7}, {'red': 1, 'green': 15, 'blue': 7}, {'green': 17, 'red': 14, 'blue': 3}, {'green': 6, 'blue': 8, 'red': 6}, {'red': 4, 'blue': 3, 'green': 5}]), ([69], [{'red': 1, 'green': 6, 'blue': 3}, {'red': 3, 'blue': 4, 'green': 6}, {'blue': 2, 'red': 2, 'green': 1}, {'blue': 6, 'green': 9, 'red': 2}, {'green': 5, 'blue': 6}]), ([70], [{'green': 1, 'red': 1, 'blue': 3}, {'green': 2, 'blue': 4, 'red': 8}, {'red': 5, 'green': 2, 'blue': 3}, {'green': 3, 'red': 1, 'blue': 3}, {'green': 3, 'blue': 4}]), ([71], [{'blue': 11, 'green': 13}, {'red': 1, 'green': 11, 'blue': 3}, {'blue': 6, 'green': 14, 'red': 1}, {'blue': 5, 'green': 17}]), ([72], [{'blue': 3, 'green': 10, 'red': 4}, {'green': 2, 'red': 6, 'blue': 13}, {'green': 1, 'blue': 1, 'red': 6}, {'red': 5, 'blue': 1, 'green': 1}, {'green': 2, 'red': 5, 'blue': 5}, {'blue': 9, 'green': 10, 'red': 6}]), ([73], [{'red': 6, 'green': 4, 'blue': 1}, {'blue': 1, 'red': 5, 'green': 3}, {'red': 2, 'green': 11, 'blue': 3}]), ([74], [{'green': 13, 'red': 2, 'blue': 2}, {'blue': 5, 'green': 6}, {'green': 12, 'red': 3, 'blue': 4}, {'green': 2}]), ([75], [{'red': 9, 'blue': 10, 'green': 6}, {'blue': 12, 'red': 9}, {'red': 11, 'green': 6}, {'blue': 12, 'red': 2, 'green': 1}]), ([76], [{'green': 1, 'blue': 2, 'red': 5}, {'blue': 2, 'green': 1}, {'blue': 1, 'green': 2, 'red': 1}, {'blue': 2, 'red': 1}, {'green': 3, 'red': 3}]), ([77], [{'green': 5, 'blue': 12, 'red': 3}, {'blue': 11, 'green': 9, 'red': 13}, {'blue': 8, 'green': 13, 'red': 13}]), ([78], [{'red': 2, 'blue': 3, 'green': 1}, {'green': 1, 'blue': 19, 'red': 1}, {'blue': 7, 'green': 2, 'red': 2}]), ([79], [{'red': 5, 'blue': 1, 'green': 4}, {'blue': 1, 'green': 9, 'red': 10}, {'red': 13, 'green': 1}, {'blue': 1, 'red': 1, 'green': 5}]), ([80], [{'green': 13, 'blue': 2}, {'red': 1, 'blue': 4, 'green': 13}, {'red': 5, 'green': 7, 'blue': 4}]), ([81], [{'red': 3, 'blue': 4, 'green': 12}, {'green': 16, 'red': 5, 'blue': 1}, {'blue': 4, 'red': 2, 'green': 2}, {'blue': 4, 'red': 5, 'green': 13}, {'red': 8, 'blue': 4, 'green': 13}, {'green': 16, 'red': 3}]), ([82], [{'red': 6, 'green': 3, 'blue': 2}, {'green': 1, 'red': 6, 'blue': 2}, {'blue': 3, 'green': 8, 'red': 9}]), ([83], [{'green': 3, 'red': 3, 'blue': 1}, {'blue': 3, 'green': 4, 'red': 3}, {'blue': 3, 'green': 4, 'red': 1}, {'red': 2, 'green': 8, 'blue': 2}]), ([84], [{'red': 5, 'blue': 6, 'green': 3}, {'blue': 1, 'green': 2}, {'green': 3, 'blue': 2, 'red': 2}, {'red': 1, 'green': 3, 'blue': 6}, {'red': 12, 'green': 2}, {'blue': 4, 'green': 2, 'red': 4}]), ([85], [{'green': 11, 'blue': 4, 'red': 9}, {'red': 13, 'blue': 1, 'green': 11}, {'green': 7, 'blue': 8, 'red': 7}, {'red': 1, 'blue': 4}]), ([86], [{'blue': 3, 'green': 19, 'red': 7}, {'green': 19, 'red': 1, 'blue': 1}, {'green': 9, 'red': 2}, {'red': 7, 'green': 6, 'blue': 1}]), ([87], [{'blue': 1, 'green': 1, 'red': 4}, {'green': 1, 'red': 6}, {'red': 6, 'blue': 2}, {'red': 8, 'blue': 3}]), ([88], [{'red': 9, 'blue': 6}, {'red': 4, 'blue': 1, 'green': 2}, {'green': 1, 'blue': 10, 'red': 6}, {'blue': 2, 'green': 1, 'red': 10}, {'red': 7, 'blue': 9}]), ([89], [{'blue': 3, 'green': 15, 'red': 1}, {'red': 1, 'green': 13, 'blue': 3}, {'blue': 4, 'green': 14, 'red': 4}, {'green': 10, 'blue': 1}]), ([90], [{'red': 1, 'green': 13}, {'green': 3, 'red': 1, 'blue': 5}, {'blue': 5, 'green': 6}, {'green': 14, 'blue': 4}, {'blue': 3, 'green': 10}, {'green': 13, 'red': 1}]), ([91], [{'green': 13, 'red': 11, 'blue': 4}, {'red': 14, 'green': 1, 'blue': 10}, {'red': 4, 'green': 2, 'blue': 3}]), ([92], [{'red': 2, 'blue': 3, 'green': 6}, {'red': 2, 'blue': 2, 'green': 8}, {'blue': 14, 'red': 1, 'green': 1}]), ([93], [{'blue': 15, 'red': 2, 'green': 13}, {'green': 8, 'red': 2, 'blue': 8}, {'blue': 6, 'red': 1, 'green': 2}]), ([94], [{'red': 5, 'green': 4, 'blue': 9}, {'red': 1, 'green': 5, 'blue': 4}, {'blue': 11, 'green': 4, 'red': 2}]), ([95], [{'blue': 9, 'green': 3}, {'green': 2, 'blue': 12}, {'green': 10, 'blue': 3}, {'green': 1, 'red': 1, 'blue': 10}]), ([96], [{'blue': 4, 'red': 2}, {'green': 3, 'blue': 10, 'red': 7}, {'blue': 2, 'green': 7, 'red': 1}, {'blue': 13, 'green': 9}, {'blue': 10, 'green': 4, 'red': 1}]), ([97], [{'red': 6, 'green': 4}, {'blue': 1, 'red': 13}, {'green': 3, 'red': 13}]), ([98], [{'red': 1, 'blue': 13, 'green': 1}, {'green': 7, 'blue': 5, 'red': 3}, {'blue': 15, 'green': 6}, {'blue': 4, 'green': 5}, {'blue': 13, 'green': 2, 'red': 1}, {'blue': 4, 'red': 3, 'green': 2}]), ([99], [{'red': 1, 'green': 2}, {'red': 2, 'blue': 2, 'green': 1}, {'green': 3, 'blue': 1, 'red': 6}, {'red': 3, 'green': 4}, {'red': 5, 'blue': 1, 'green': 4}, {'blue': 1, 'red': 2, 'green': 1}]), ([100], [{'green': 9, 'blue': 2, 'red': 12}, {'blue': 2, 'red': 14, 'green': 2}, {'red': 14, 'green': 12}])]\n"
     ]
    }
   ],
   "source": [
    "print(flist)"
   ]
  },
  {
   "cell_type": "code",
   "execution_count": 631,
   "metadata": {},
   "outputs": [],
   "source": [
    "def trueValue(list):\n",
    "    num = len(list[1])\n",
    "    sum = 0\n",
    "    for pieces in list[1]:\n",
    "        if ('red' in pieces) and ('blue' in pieces) and ('green' in pieces):\n",
    "            if pieces['red'] < 12 and pieces['blue'] < 15 and pieces['green']< 13:\n",
    "                sum = sum+1\n",
    "        elif ('red' in pieces) and ('blue' in pieces):\n",
    "            if pieces['red'] < 12 and pieces['blue'] < 15:\n",
    "                sum = sum +1\n",
    "        elif ('blue' in pieces) and ('green' in pieces):\n",
    "            if pieces['blue'] < 15 and pieces['green']< 13:\n",
    "                sum = sum+1\n",
    "        elif ('red' in pieces) and ('green' in pieces):\n",
    "            if pieces['red'] < 12 and pieces['green'] < 13:\n",
    "                sum = sum+1\n",
    "        elif 'red' in pieces:\n",
    "            if pieces['red'] < 12:\n",
    "                sum = sum+1\n",
    "        elif 'blue' in pieces:\n",
    "            if pieces['blue'] < 15:\n",
    "                sum = sum+1\n",
    "        elif 'green' in pieces:\n",
    "            if pieces['green'] < 13:\n",
    "                sum = sum+1\n",
    "        else:\n",
    "            pass\n",
    "    if sum == num:\n",
    "        return list[0][0]\n",
    "    else:\n",
    "        pass"
   ]
  },
  {
   "cell_type": "code",
   "execution_count": 632,
   "metadata": {},
   "outputs": [
    {
     "name": "stdout",
     "output_type": "stream",
     "text": [
      "1\n",
      "2\n",
      "3\n",
      "None\n",
      "None\n",
      "6\n",
      "7\n",
      "8\n",
      "None\n",
      "None\n",
      "None\n",
      "None\n",
      "None\n",
      "None\n",
      "15\n",
      "None\n",
      "None\n",
      "18\n",
      "None\n",
      "20\n",
      "None\n",
      "22\n",
      "None\n",
      "None\n",
      "25\n",
      "26\n",
      "None\n",
      "None\n",
      "None\n",
      "None\n",
      "31\n",
      "None\n",
      "33\n",
      "None\n",
      "None\n",
      "None\n",
      "None\n",
      "None\n",
      "39\n",
      "None\n",
      "None\n",
      "42\n",
      "None\n",
      "None\n",
      "None\n",
      "46\n",
      "47\n",
      "None\n",
      "49\n",
      "None\n",
      "51\n",
      "52\n",
      "None\n",
      "None\n",
      "None\n",
      "56\n",
      "57\n",
      "None\n",
      "None\n",
      "None\n",
      "61\n",
      "62\n",
      "63\n",
      "None\n",
      "None\n",
      "66\n",
      "None\n",
      "None\n",
      "69\n",
      "70\n",
      "None\n",
      "72\n",
      "73\n",
      "None\n",
      "75\n",
      "76\n",
      "None\n",
      "None\n",
      "None\n",
      "None\n",
      "None\n",
      "82\n",
      "83\n",
      "None\n",
      "None\n",
      "None\n",
      "87\n",
      "88\n",
      "None\n",
      "None\n",
      "None\n",
      "92\n",
      "None\n",
      "94\n",
      "95\n",
      "96\n",
      "None\n",
      "None\n",
      "99\n",
      "None\n"
     ]
    }
   ],
   "source": [
    "sum = 0 \n",
    "\n",
    "for items in flist:\n",
    "    num = trueValue(items)\n",
    "    print(num)\n",
    "    if num != None:\n",
    "        sum = sum + num"
   ]
  },
  {
   "cell_type": "code",
   "execution_count": 636,
   "metadata": {},
   "outputs": [
    {
     "data": {
      "text/plain": [
       "2159"
      ]
     },
     "execution_count": 636,
     "metadata": {},
     "output_type": "execute_result"
    }
   ],
   "source": [
    "sum"
   ]
  },
  {
   "cell_type": "code",
   "execution_count": 635,
   "metadata": {},
   "outputs": [
    {
     "ename": "IndentationError",
     "evalue": "unindent does not match any outer indentation level (<string>, line 3)",
     "output_type": "error",
     "traceback": [
      "\u001b[0;36m  File \u001b[0;32m<string>:3\u001b[0;36m\u001b[0m\n\u001b[0;31m    if sum == num:\u001b[0m\n\u001b[0m                  ^\u001b[0m\n\u001b[0;31mIndentationError\u001b[0m\u001b[0;31m:\u001b[0m unindent does not match any outer indentation level\n"
     ]
    }
   ],
   "source": [
    "  if i['red'] < 12 & i['blue'] < 14 & ['green'] < 13:\n",
    "            sum = sum + 1\n",
    "    if sum == num:\n",
    "        return True\n",
    "    else:\n",
    "        return False"
   ]
  }
 ],
 "metadata": {
  "kernelspec": {
   "display_name": "Arillien",
   "language": "python",
   "name": "python3"
  },
  "language_info": {
   "codemirror_mode": {
    "name": "ipython",
    "version": 3
   },
   "file_extension": ".py",
   "mimetype": "text/x-python",
   "name": "python",
   "nbconvert_exporter": "python",
   "pygments_lexer": "ipython3",
   "version": "3.12.0"
  }
 },
 "nbformat": 4,
 "nbformat_minor": 2
}
