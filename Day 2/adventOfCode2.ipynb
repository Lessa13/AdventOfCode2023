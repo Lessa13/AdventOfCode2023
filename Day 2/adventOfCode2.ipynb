{
 "cells": [
  {
   "cell_type": "code",
   "execution_count": 654,
   "metadata": {},
   "outputs": [],
   "source": [
    "import os\n",
    "import re\n"
   ]
  },
  {
   "cell_type": "code",
   "execution_count": 655,
   "metadata": {},
   "outputs": [],
   "source": [
    "archivo = 'AdventOfCode2.txt'\n",
    "ubi = os.getcwd()\n",
    "ubic = ubi + '/' + archivo\n",
    "f = open(ubic)\n",
    "texto = f.read()"
   ]
  },
  {
   "cell_type": "code",
   "execution_count": 656,
   "metadata": {},
   "outputs": [],
   "source": [
    "textof = texto.split(\"\\n\")\n"
   ]
  },
  {
   "cell_type": "code",
   "execution_count": 657,
   "metadata": {},
   "outputs": [],
   "source": [
    "diccionario = dict()"
   ]
  },
  {
   "cell_type": "code",
   "execution_count": 658,
   "metadata": {},
   "outputs": [],
   "source": [
    "def gamedict(game):\n",
    "    list = game.split(':')\n",
    "    magickey = list[0]\n",
    "    for i in range(len(list)):\n",
    "        list[i] = list[i].split(';')\n",
    "    magicvalue = list[1]\n",
    "    dict1 = {magickey : magicvalue}\n",
    "    return dict1"
   ]
  },
  {
   "cell_type": "code",
   "execution_count": 659,
   "metadata": {},
   "outputs": [],
   "source": [
    "for game in textof:\n",
    "    dict1 = gamedict(game)\n",
    "    diccionario.update(dict1)\n",
    "    "
   ]
  },
  {
   "cell_type": "code",
   "execution_count": 660,
   "metadata": {},
   "outputs": [],
   "source": [
    "keylist= []\n",
    "for key in diccionario.keys():\n",
    "    key = [int(k) for k in re.findall(r'\\d+',key)]\n",
    "    keylist.append(key)"
   ]
  },
  {
   "cell_type": "code",
   "execution_count": 662,
   "metadata": {},
   "outputs": [],
   "source": [
    "def valuedict(v):\n",
    "    keys = []\n",
    "    values = []\n",
    "    finalvalues = []\n",
    "    for i in range(len(v)):\n",
    "        keys.append(re.findall(r'[a-z]+', v[i]))\n",
    "        values.append(int(k) for k in re.findall(r'\\d+',v[i]))\n",
    "    for i in range(len(keys)):\n",
    "        finalvalues.append(dict(zip(keys[i],values[i])))\n",
    "    return finalvalues"
   ]
  },
  {
   "cell_type": "code",
   "execution_count": 663,
   "metadata": {},
   "outputs": [],
   "source": [
    "valuelist= []\n",
    "for value in diccionario.values():\n",
    "    valuef = valuedict(value)\n",
    "    valuelist.append(valuef)"
   ]
  },
  {
   "cell_type": "code",
   "execution_count": 664,
   "metadata": {},
   "outputs": [],
   "source": [
    "flist = []\n",
    "for i in range(len(keylist)):\n",
    "    tuple1 = (keylist[i],valuelist[i])\n",
    "    flist.append(tuple1)"
   ]
  },
  {
   "cell_type": "code",
   "execution_count": 666,
   "metadata": {},
   "outputs": [],
   "source": [
    "def trueValue(list):\n",
    "    num = len(list[1])\n",
    "    sum = 0\n",
    "    for pieces in list[1]:\n",
    "        if ('red' in pieces) and ('blue' in pieces) and ('green' in pieces):\n",
    "            if pieces['red'] <= 12 and pieces['blue'] <= 14 and pieces['green']<= 13:\n",
    "                sum = sum+1\n",
    "        elif ('red' in pieces) and ('blue' in pieces):\n",
    "            if pieces['red'] <= 12 and pieces['blue'] <= 14:\n",
    "                sum = sum +1\n",
    "        elif ('blue' in pieces) and ('green' in pieces):\n",
    "            if pieces['blue'] <= 14 and pieces['green']<= 13:\n",
    "                sum = sum+1\n",
    "        elif ('red' in pieces) and ('green' in pieces):\n",
    "            if pieces['red'] <= 12 and pieces['green'] <= 13:\n",
    "                sum = sum+1\n",
    "        elif 'red' in pieces:\n",
    "            if pieces['red'] <= 12:\n",
    "                sum = sum+1\n",
    "        elif 'blue' in pieces:\n",
    "            if pieces['blue'] <= 14:\n",
    "                sum = sum+1\n",
    "        elif 'green' in pieces:\n",
    "            if pieces['green'] <= 13:\n",
    "                sum = sum+1\n",
    "        else:\n",
    "            pass\n",
    "    if sum == num:\n",
    "        return list[0][0]\n",
    "    else:\n",
    "        pass"
   ]
  },
  {
   "cell_type": "code",
   "execution_count": null,
   "metadata": {},
   "outputs": [],
   "source": [
    "sum = 0 \n",
    "\n",
    "for items in flist:\n",
    "    num = trueValue(items)\n",
    "    if num != None:\n",
    "        sum = sum + num"
   ]
  },
  {
   "cell_type": "code",
   "execution_count": null,
   "metadata": {},
   "outputs": [],
   "source": [
    "sum"
   ]
  }
 ],
 "metadata": {
  "kernelspec": {
   "display_name": "Arillien",
   "language": "python",
   "name": "python3"
  },
  "language_info": {
   "codemirror_mode": {
    "name": "ipython",
    "version": 3
   },
   "file_extension": ".py",
   "mimetype": "text/x-python",
   "name": "python",
   "nbconvert_exporter": "python",
   "pygments_lexer": "ipython3",
   "version": "3.12.0"
  }
 },
 "nbformat": 4,
 "nbformat_minor": 2
}
